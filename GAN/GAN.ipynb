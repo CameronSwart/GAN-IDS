{
 "cells": [
  {
   "cell_type": "code",
   "execution_count": 23,
   "id": "f9dc4ab9",
   "metadata": {},
   "outputs": [
    {
     "name": "stderr",
     "output_type": "stream",
     "text": [
      "UsageError: Line magic function `%tensorflow_version` not found.\n"
     ]
    }
   ],
   "source": [
    "#imports\n",
    "import pandas as pd\n",
    "import numpy as np\n",
    "import matplotlib.pyplot as plt\n",
    "import seaborn as sns\n",
    "from sklearn.preprocessing import MinMaxScaler\n",
    "%matplotlib inline\n",
    "\n",
    "import tensorflow as tf\n",
    "%tensorflow_version 1.x\n",
    "print(tf.__version__)\n",
    "\n",
    "\n"
   ]
  },
  {
   "cell_type": "code",
   "execution_count": 11,
   "id": "f59641d6",
   "metadata": {},
   "outputs": [
    {
     "name": "stderr",
     "output_type": "stream",
     "text": [
      "C:\\Users\\camer\\anaconda3\\envs\\py37gpu\\lib\\site-packages\\numpy\\lib\\arraysetops.py:583: FutureWarning: elementwise comparison failed; returning scalar instead, but in the future will perform elementwise comparison\n",
      "  mask |= (ar1 == a)\n"
     ]
    }
   ],
   "source": [
    "\n",
    "import os \n",
    "path = 'D:/Masters project/Git/Project_GAN-IDS/Data'\n",
    "os.chdir(path)\n",
    "\n",
    "df = pd.read_csv('iot23_full.csv', index_col=0)"
   ]
  },
  {
   "cell_type": "code",
   "execution_count": 15,
   "id": "3813ee7b",
   "metadata": {},
   "outputs": [],
   "source": [
    "min_max_scaler = MinMaxScaler().fit(df)\n",
    "df_scaled = min_max_scaler.transform(df)\n"
   ]
  },
  {
   "cell_type": "code",
   "execution_count": 17,
   "id": "8ad45544",
   "metadata": {},
   "outputs": [],
   "source": [
    "def build_generator(n_columns, latent_dim):\n",
    "    model = Sequential()\n",
    "    model.add(Dense(32, kernel_initializer = \"he_uniform\", input_dim=latent_dim))\n",
    "    model.add(LeakyReLU(0.2))\n",
    "    model.add(BatchNormalization(momentum=0.8))\n",
    "    model.add(Dense(64,  kernel_initializer = \"he_uniform\"))\n",
    "    model.add(LeakyReLU(0.2))\n",
    "    model.add(BatchNormalization(momentum=0.8))\n",
    "    model.add(Dense(128,  kernel_initializer = \"he_uniform\"))\n",
    "    model.add(LeakyReLU(0.2))\n",
    "    model.add(BatchNormalization(momentum=0.8))\n",
    "    model.add(Dense(n_columns, activation = \"sigmoid\"))\n",
    "    return model"
   ]
  },
  {
   "cell_type": "code",
   "execution_count": 25,
   "id": "68b11822",
   "metadata": {},
   "outputs": [],
   "source": [
    "from keras.layers import Input, Dense, Reshape, Flatten, Dropout, BatchNormalization, Embedding\n",
    "from keras.layers.advanced_activations import LeakyReLU\n",
    "from keras.layers.merge import concatenate\n",
    "from keras.models import Sequential, Model\n",
    "from keras.optimizers import Adam\n",
    "from keras.utils import to_categorical\n",
    "from keras.layers.advanced_activations import LeakyReLU\n",
    "from keras.utils.vis_utils import plot_model\n",
    "from sklearn.preprocessing import MinMaxScaler, OneHotEncoder, LabelEncoder\n",
    "import scipy.stats"
   ]
  },
  {
   "cell_type": "code",
   "execution_count": 26,
   "id": "3ee0e04a",
   "metadata": {},
   "outputs": [],
   "source": [
    "latent_dim = 50\n",
    "from keras.models import Sequential, Model\n",
    "generator = build_generator(df_scaled.shape[1], latent_dim)"
   ]
  },
  {
   "cell_type": "code",
   "execution_count": 30,
   "id": "792b1e62",
   "metadata": {},
   "outputs": [],
   "source": [
    "optimizer = Adam(lr=0.0002, beta_1=0.5)"
   ]
  },
  {
   "cell_type": "code",
   "execution_count": 31,
   "id": "ec7f31a3",
   "metadata": {},
   "outputs": [],
   "source": [
    "def build_discriminator(inputs_n):\n",
    "    model = Sequential()\n",
    "    model.add(Dense(128,  kernel_initializer = \"he_uniform\", input_dim = inputs_n))\n",
    "    model.add(LeakyReLU(0.2))\n",
    "    model.add(Dense(64,  kernel_initializer = \"he_uniform\"))\n",
    "    model.add(LeakyReLU(0.2))\n",
    "    model.add(Dense(32,  kernel_initializer = \"he_uniform\"))\n",
    "    model.add(LeakyReLU(0.2))\n",
    "    model.add(Dense(16,  kernel_initializer = \"he_uniform\"))\n",
    "    model.add(LeakyReLU(0.2))\n",
    "    model.add(Dense(1, activation = \"sigmoid\"))\n",
    "    model.compile(loss = \"binary_crossentropy\", optimizer = optimizer, metrics = [\"accuracy\"])\n",
    "    return model"
   ]
  },
  {
   "cell_type": "code",
   "execution_count": 32,
   "id": "6ef335f0",
   "metadata": {},
   "outputs": [],
   "source": [
    "discriminator = build_discriminator(df_scaled.shape[1])"
   ]
  },
  {
   "cell_type": "code",
   "execution_count": 33,
   "id": "907bd60a",
   "metadata": {},
   "outputs": [],
   "source": [
    "def build_gan(generator, discriminator):\n",
    "    # make weights in the discriminator not trainable\n",
    "    discriminator.trainable = False\n",
    "    # connect generator and dicriminator\n",
    "    model = Sequential()\n",
    "    # add generator\n",
    "    model.add(generator)\n",
    "    # add the discriminator\n",
    "    model.add(discriminator)\n",
    "    # compile model\n",
    "    model.compile(loss = \"binary_crossentropy\", optimizer = optimizer)\n",
    "    return model"
   ]
  },
  {
   "cell_type": "code",
   "execution_count": 34,
   "id": "e1109b18",
   "metadata": {},
   "outputs": [],
   "source": [
    "gan = build_gan(generator, discriminator)"
   ]
  },
  {
   "cell_type": "code",
   "execution_count": 35,
   "id": "b80ad29c",
   "metadata": {},
   "outputs": [],
   "source": [
    "def train(gan, generator, discriminator, data, latent_dim, n_epochs, n_batch, n_eval):\n",
    "    #Half batch size for updateting discriminator\n",
    "    half_batch = int(n_batch / 2)\n",
    "\n",
    "    #lists for stats from the model\n",
    "    generator_loss = []\n",
    "    discriminator_loss = []\n",
    "\n",
    "    #generate class labels for fake = 0 and real = 1\n",
    "    valid = np.ones((half_batch, 1))\n",
    "    fake = np.zeros((half_batch, 1))\n",
    "    y_gan = np.ones((n_batch, 1))\n",
    "    #training loop\n",
    "    for i in range(n_epochs):\n",
    "        \n",
    "        #select random batch from the real numerical data\n",
    "        idx = np.random.randint(0, data.shape[0], half_batch)\n",
    "        real_data = data[idx]\n",
    "        \n",
    "        #generate fake samples from the noise\n",
    "        noise = np.random.normal(0, 1, (half_batch, latent_dim))\n",
    "        fake_data = generator.predict(noise)\n",
    "\n",
    "        #train the discriminator and return losses\n",
    "        d_loss_real, _ = discriminator.train_on_batch(real_data, valid)\n",
    "        d_loss_fake, _ = discriminator.train_on_batch(fake_data, fake)\n",
    "\n",
    "        d_loss = 0.5 * np.add(d_loss_real, d_loss_fake)\n",
    "        discriminator_loss.append(d_loss)\n",
    "\n",
    "        #generate noise for generator input and  train the generator (to have the discriminator label samples as valid)\n",
    "        noise = np.random.normal(0, 1, (n_batch, latent_dim))\n",
    "        g_loss = gan.train_on_batch(noise, y_gan)\n",
    "        generator_loss.append(g_loss)\n",
    "\n",
    "        #evaluate progress\n",
    "        if (i+1) % n_eval == 0:\n",
    "            print (\"Epoch: %d [Generator loss: %f] [Discriminator loss: %f]\" % (i + 1, g_loss, d_loss))\n",
    "\n",
    "    #plot losses after training\n",
    "    plt.figure(figsize = (20, 10))\n",
    "    plt.plot(generator_loss, label = \"Generator loss\")\n",
    "    plt.plot(discriminator_loss, label = \"Discriminator loss\")\n",
    "    plt.title(\"Stats from training GAN\")\n",
    "    plt.legend()\n",
    "    plt.grid()"
   ]
  },
  {
   "cell_type": "code",
   "execution_count": 37,
   "id": "82a704e9",
   "metadata": {},
   "outputs": [
    {
     "name": "stdout",
     "output_type": "stream",
     "text": [
      "Epoch: 250 [Generator loss: 5.906230] [Discriminator loss: 0.243499]\n",
      "Epoch: 500 [Generator loss: 3.374945] [Discriminator loss: 0.478908]\n",
      "Epoch: 750 [Generator loss: 1.609812] [Discriminator loss: 0.635227]\n",
      "Epoch: 1000 [Generator loss: 0.975289] [Discriminator loss: 0.662629]\n",
      "Epoch: 1250 [Generator loss: 0.840901] [Discriminator loss: 0.669520]\n",
      "Epoch: 1500 [Generator loss: 0.835461] [Discriminator loss: 0.685551]\n",
      "Epoch: 1750 [Generator loss: 0.854737] [Discriminator loss: 0.669087]\n",
      "Epoch: 2000 [Generator loss: 0.808300] [Discriminator loss: 0.669489]\n",
      "Epoch: 2250 [Generator loss: 0.805268] [Discriminator loss: 0.683130]\n",
      "Epoch: 2500 [Generator loss: 0.795856] [Discriminator loss: 0.676618]\n",
      "Epoch: 2750 [Generator loss: 0.788410] [Discriminator loss: 0.702909]\n",
      "Epoch: 3000 [Generator loss: 0.793286] [Discriminator loss: 0.678911]\n",
      "Epoch: 3250 [Generator loss: 0.804905] [Discriminator loss: 0.679210]\n",
      "Epoch: 3500 [Generator loss: 0.800229] [Discriminator loss: 0.685860]\n",
      "Epoch: 3750 [Generator loss: 0.797013] [Discriminator loss: 0.682049]\n",
      "Epoch: 4000 [Generator loss: 0.794909] [Discriminator loss: 0.675232]\n",
      "Epoch: 4250 [Generator loss: 0.796975] [Discriminator loss: 0.680663]\n",
      "Epoch: 4500 [Generator loss: 0.794839] [Discriminator loss: 0.688658]\n",
      "Epoch: 4750 [Generator loss: 0.785332] [Discriminator loss: 0.697261]\n",
      "Epoch: 5000 [Generator loss: 0.791297] [Discriminator loss: 0.694879]\n"
     ]
    },
    {
     "data": {
      "image/png": "[encoded data removed]",
      "text/plain": [
       "<Figure size 1440x720 with 1 Axes>"
      ]
     },
     "metadata": {
      "needs_background": "light"
     },
     "output_type": "display_data"
    }
   ],
   "source": [
    "train(gan, generator, discriminator, df_scaled, latent_dim, n_epochs = 5000, n_batch = 1024, n_eval = 250)"
   ]
  },
  {
   "cell_type": "code",
   "execution_count": null,
   "id": "e5d2857a",
   "metadata": {},
   "outputs": [],
   "source": []
  }
 ],
 "metadata": {
  "kernelspec": {
   "display_name": "Python 3 (ipykernel)",
   "language": "python",
   "name": "python3"
  },
  "language_info": {
   "codemirror_mode": {
    "name": "ipython",
    "version": 3
   },
   "file_extension": ".py",
   "mimetype": "text/x-python",
   "name": "python",
   "nbconvert_exporter": "python",
   "pygments_lexer": "ipython3",
   "version": "3.7.10"
  }
 },
 "nbformat": 4,
 "nbformat_minor": 5
}
