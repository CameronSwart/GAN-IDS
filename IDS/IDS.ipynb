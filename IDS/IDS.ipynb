{
 "cells": [
  {
   "cell_type": "code",
   "execution_count": 35,
   "metadata": {},
   "outputs": [],
   "source": [
    "import pandas as pd \n",
    "import numpy as np\n",
    "from sklearn import preprocessing\n",
    "from sklearn.model_selection import train_test_split\n",
    "import tensorflow as tf\n",
    "from sklearn.preprocessing import MinMaxScaler\n",
    "import os"
   ]
  },
  {
   "cell_type": "code",
   "execution_count": 53,
   "metadata": {},
   "outputs": [
    {
     "name": "stderr",
     "output_type": "stream",
     "text": [
      "C:\\Users\\camer\\anaconda3\\envs\\py37gpu\\lib\\site-packages\\numpy\\lib\\arraysetops.py:583: FutureWarning: elementwise comparison failed; returning scalar instead, but in the future will perform elementwise comparison\n",
      "  mask |= (ar1 == a)\n"
     ]
    }
   ],
   "source": [
    "path = 'D:/Masters project/Git/Project_GAN-IDS/Data'\n",
    "os.chdir(path)\n",
    "\n",
    "df = pd.read_csv('iot23_full.csv', index_col=0)"
   ]
  },
  {
   "cell_type": "code",
   "execution_count": 54,
   "metadata": {},
   "outputs": [
    {
     "data": {
      "text/plain": [
       "False"
      ]
     },
     "execution_count": 54,
     "metadata": {},
     "output_type": "execute_result"
    }
   ],
   "source": [
    "le = preprocessing.LabelEncoder()\n",
    "df['label'] = le.fit_transform(df.label.values)\n",
    "\n",
    "df.isnull().values.any()"
   ]
  },
  {
   "cell_type": "code",
   "execution_count": 55,
   "metadata": {},
   "outputs": [],
   "source": [
    "y = df[['label']]\n",
    "X = df.drop(columns=['label'])\n"
   ]
  },
  {
   "cell_type": "code",
   "execution_count": 60,
   "metadata": {},
   "outputs": [],
   "source": [
    "X_train, X_test, y_train, y_test = train_test_split(X, y, test_size=0.2, random_state=0, stratify=y)\n",
    "\n",
    "min_max_scaler = MinMaxScaler().fit(X_train)\n",
    "X_train = min_max_scaler.transform(X_train)\n",
    "X_test = min_max_scaler.transform(X_test)"
   ]
  },
  {
   "cell_type": "code",
   "execution_count": 61,
   "metadata": {},
   "outputs": [
    {
     "name": "stdout",
     "output_type": "stream",
     "text": [
      "Epoch 1/10\n",
      "6401/6401 [==============================] - 7s 1ms/step - loss: 0.3876 - accuracy: 0.8558\n",
      "Epoch 2/10\n",
      "6401/6401 [==============================] - 7s 1ms/step - loss: 0.2801 - accuracy: 0.8909\n",
      "Epoch 3/10\n",
      "6401/6401 [==============================] - 7s 1ms/step - loss: 0.2639 - accuracy: 0.8936\n",
      "Epoch 4/10\n",
      "6401/6401 [==============================] - 7s 1ms/step - loss: 0.2562 - accuracy: 0.8940\n",
      "Epoch 5/10\n",
      "6401/6401 [==============================] - 7s 1ms/step - loss: 0.2503 - accuracy: 0.8942\n",
      "Epoch 6/10\n",
      "6401/6401 [==============================] - 7s 1ms/step - loss: 0.2453 - accuracy: 0.8943\n",
      "Epoch 7/10\n",
      "6401/6401 [==============================] - 7s 1ms/step - loss: 0.2423 - accuracy: 0.8942\n",
      "Epoch 8/10\n",
      "6401/6401 [==============================] - 7s 1ms/step - loss: 0.2403 - accuracy: 0.8941\n",
      "Epoch 9/10\n",
      "6401/6401 [==============================] - 7s 1ms/step - loss: 0.2393 - accuracy: 0.8940\n",
      "Epoch 10/10\n",
      "6401/6401 [==============================] - 7s 1ms/step - loss: 0.2384 - accuracy: 0.8939\n"
     ]
    }
   ],
   "source": [
    "input_shape = len(X.columns)\n",
    "model = tf.keras.models.Sequential([\n",
    "\n",
    "            tf.keras.layers.Flatten(input_shape=(input_shape,)),\n",
    "            tf.keras.layers.Dense(76, activation='relu'),\n",
    "            tf.keras.layers.Dropout(0.2),\n",
    "            tf.keras.layers.Dense(8, activation='softmax')\n",
    "            ])\n",
    "\n",
    "model.compile(optimizer='adam',\n",
    "     loss='sparse_categorical_crossentropy',\n",
    "     metrics=['accuracy'])\n",
    "\n",
    "epoch = 10\n",
    "batch = 1000\n",
    "\n",
    "model.fit(X_train,\n",
    "            y_train,\n",
    "            epochs=epoch,\n",
    "            batch_size = batch)\n",
    "\n",
    "X_classes = model.predict_classes(X_test, verbose=0)"
   ]
  },
  {
   "cell_type": "code",
   "execution_count": 62,
   "metadata": {},
   "outputs": [
    {
     "name": "stderr",
     "output_type": "stream",
     "text": [
      "C:\\Users\\camer\\anaconda3\\envs\\py37gpu\\lib\\site-packages\\sklearn\\metrics\\_classification.py:1308: UndefinedMetricWarning: Precision and F-score are ill-defined and being set to 0.0 in labels with no predicted samples. Use `zero_division` parameter to control this behavior.\n",
      "  _warn_prf(average, modifier, msg_start, len(result))\n",
      "C:\\Users\\camer\\anaconda3\\envs\\py37gpu\\lib\\site-packages\\sklearn\\metrics\\_classification.py:1308: UndefinedMetricWarning: Precision and F-score are ill-defined and being set to 0.0 in labels with no predicted samples. Use `zero_division` parameter to control this behavior.\n",
      "  _warn_prf(average, modifier, msg_start, len(result))\n"
     ]
    },
    {
     "name": "stdout",
     "output_type": "stream",
     "text": [
      "              precision    recall  f1-score   support\n",
      "\n",
      "           0       0.99      0.25      0.40    219930\n",
      "           1       0.92      0.13      0.22      3402\n",
      "           2       1.00      1.00      1.00    152684\n",
      "           3       0.00      0.00      0.00         2\n",
      "           4       0.99      0.88      0.94      1323\n",
      "           5       1.00      1.00      1.00    315146\n",
      "           6       0.00      0.00      0.00         1\n",
      "           7       0.84      1.00      0.92    907667\n",
      "\n",
      "    accuracy                           0.89   1600155\n",
      "   macro avg       0.72      0.53      0.56   1600155\n",
      "weighted avg       0.91      0.89      0.87   1600155\n",
      "\n"
     ]
    },
    {
     "name": "stderr",
     "output_type": "stream",
     "text": [
      "C:\\Users\\camer\\anaconda3\\envs\\py37gpu\\lib\\site-packages\\sklearn\\metrics\\_classification.py:1308: UndefinedMetricWarning: Precision and F-score are ill-defined and being set to 0.0 in labels with no predicted samples. Use `zero_division` parameter to control this behavior.\n",
      "  _warn_prf(average, modifier, msg_start, len(result))\n"
     ]
    }
   ],
   "source": [
    "from sklearn.metrics import accuracy_score, confusion_matrix, classification_report\n",
    "\n",
    "                   \n",
    "print(classification_report(y_test, X_classes))"
   ]
  },
  {
   "cell_type": "code",
   "execution_count": null,
   "metadata": {},
   "outputs": [],
   "source": []
  }
 ],
 "metadata": {
  "kernelspec": {
   "display_name": "Python 3 (ipykernel)",
   "language": "python",
   "name": "python3"
  },
  "language_info": {
   "codemirror_mode": {
    "name": "ipython",
    "version": 3
   },
   "file_extension": ".py",
   "mimetype": "text/x-python",
   "name": "python",
   "nbconvert_exporter": "python",
   "pygments_lexer": "ipython3",
   "version": "3.7.10"
  }
 },
 "nbformat": 4,
 "nbformat_minor": 2
}
